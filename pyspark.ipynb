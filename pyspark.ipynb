{
  "nbformat": 4,
  "nbformat_minor": 0,
  "metadata": {
    "colab": {
      "provenance": [],
      "authorship_tag": "ABX9TyM6uasKkFs7eQ96tZP6E/qY",
      "include_colab_link": true
    },
    "kernelspec": {
      "name": "python3",
      "display_name": "Python 3"
    },
    "language_info": {
      "name": "python"
    }
  },
  "cells": [
    {
      "cell_type": "markdown",
      "metadata": {
        "id": "view-in-github",
        "colab_type": "text"
      },
      "source": [
        "<a href=\"https://colab.research.google.com/github/RheaBhalekar24/ML/blob/main/pyspark.ipynb\" target=\"_parent\"><img src=\"https://colab.research.google.com/assets/colab-badge.svg\" alt=\"Open In Colab\"/></a>"
      ]
    },
    {
      "cell_type": "code",
      "execution_count": null,
      "metadata": {
        "colab": {
          "base_uri": "https://localhost:8080/"
        },
        "id": "UVpRFRAR6Wav",
        "outputId": "68b8d394-b7ad-43e1-8a01-bd0762b63648"
      },
      "outputs": [
        {
          "output_type": "stream",
          "name": "stdout",
          "text": [
            "Collecting pyspark\n",
            "  Downloading pyspark-3.5.0.tar.gz (316.9 MB)\n",
            "\u001b[2K     \u001b[90m━━━━━━━━━━━━━━━━━━━━━━━━━━━━━━━━━━━━━━━━\u001b[0m \u001b[32m316.9/316.9 MB\u001b[0m \u001b[31m3.5 MB/s\u001b[0m eta \u001b[36m0:00:00\u001b[0m\n",
            "\u001b[?25h  Preparing metadata (setup.py) ... \u001b[?25l\u001b[?25hdone\n",
            "Requirement already satisfied: py4j==0.10.9.7 in /usr/local/lib/python3.10/dist-packages (from pyspark) (0.10.9.7)\n",
            "Building wheels for collected packages: pyspark\n",
            "  Building wheel for pyspark (setup.py) ... \u001b[?25l\u001b[?25hdone\n",
            "  Created wheel for pyspark: filename=pyspark-3.5.0-py2.py3-none-any.whl size=317425345 sha256=801e85fcde595f0534f1a012fb440de6e69985635b2cddbd0b904d3b78161e7e\n",
            "  Stored in directory: /root/.cache/pip/wheels/41/4e/10/c2cf2467f71c678cfc8a6b9ac9241e5e44a01940da8fbb17fc\n",
            "Successfully built pyspark\n",
            "Installing collected packages: pyspark\n",
            "Successfully installed pyspark-3.5.0\n"
          ]
        }
      ],
      "source": [
        "!pip install pyspark"
      ]
    },
    {
      "cell_type": "code",
      "source": [
        "import pandas as pd\n",
        "import pyspark\n",
        "print(pyspark.__version__)\n",
        "from pyspark.sql.types import *\n",
        "from pyspark.sql.functions import *\n",
        "from pyspark.ml.classification import LogisticRegression\n",
        "from pyspark.ml.feature import HashingTF, Tokenizer, StopWordsRemover\n",
        "from pyspark.sql import SparkSession"
      ],
      "metadata": {
        "colab": {
          "base_uri": "https://localhost:8080/"
        },
        "id": "LqF79tzC6q9O",
        "outputId": "793d563a-c311-43d2-8d52-0c0f6952ebca"
      },
      "execution_count": null,
      "outputs": [
        {
          "output_type": "stream",
          "name": "stdout",
          "text": [
            "3.5.0\n"
          ]
        }
      ]
    },
    {
      "cell_type": "code",
      "source": [
        "spark = SparkSession.builder.master(\"local[1]\").appName(\"SparkByExamples.com\").getOrCreate()"
      ],
      "metadata": {
        "id": "SRT3byod66ZR"
      },
      "execution_count": null,
      "outputs": []
    },
    {
      "cell_type": "code",
      "source": [
        "# df2 = spark.read.csv('sentiment_train.csv')\n",
        "df3 = spark.read.csv('Table_1.csv')\n",
        "df3.show(truncate = False, n = 4)\n",
        "print(df3.type)\n"
      ],
      "metadata": {
        "id": "ugLfgF2O7KH5",
        "colab": {
          "base_uri": "https://localhost:8080/",
          "height": 505
        },
        "outputId": "2a494b51-b252-4265-f562-207c06ed9aa4"
      },
      "execution_count": null,
      "outputs": [
        {
          "output_type": "stream",
          "name": "stdout",
          "text": [
            "+-------------------------+-----------------------+\n",
            "|_c0                      |_c1                    |\n",
            "+-------------------------+-----------------------+\n",
            "|<b></b>                  |<b>n, %, or mean±SD</b>|\n",
            "|Age (years)              |45.8 (±16.2)           |\n",
            "|Educational level (years)|5.9 (±4.0)             |\n",
            "|Sex-female               |56 (49.1%)             |\n",
            "+-------------------------+-----------------------+\n",
            "only showing top 4 rows\n",
            "\n"
          ]
        },
        {
          "output_type": "error",
          "ename": "AttributeError",
          "evalue": "'DataFrame' object has no attribute 'type'",
          "traceback": [
            "\u001b[0;31m---------------------------------------------------------------------------\u001b[0m",
            "\u001b[0;31mAttributeError\u001b[0m                            Traceback (most recent call last)",
            "\u001b[0;32m<ipython-input-6-46cb7d1a4014>\u001b[0m in \u001b[0;36m<cell line: 4>\u001b[0;34m()\u001b[0m\n\u001b[1;32m      2\u001b[0m \u001b[0mdf3\u001b[0m \u001b[0;34m=\u001b[0m \u001b[0mspark\u001b[0m\u001b[0;34m.\u001b[0m\u001b[0mread\u001b[0m\u001b[0;34m.\u001b[0m\u001b[0mcsv\u001b[0m\u001b[0;34m(\u001b[0m\u001b[0;34m'Table_1.csv'\u001b[0m\u001b[0;34m)\u001b[0m\u001b[0;34m\u001b[0m\u001b[0;34m\u001b[0m\u001b[0m\n\u001b[1;32m      3\u001b[0m \u001b[0mdf3\u001b[0m\u001b[0;34m.\u001b[0m\u001b[0mshow\u001b[0m\u001b[0;34m(\u001b[0m\u001b[0mtruncate\u001b[0m \u001b[0;34m=\u001b[0m \u001b[0;32mFalse\u001b[0m\u001b[0;34m,\u001b[0m \u001b[0mn\u001b[0m \u001b[0;34m=\u001b[0m \u001b[0;36m4\u001b[0m\u001b[0;34m)\u001b[0m\u001b[0;34m\u001b[0m\u001b[0;34m\u001b[0m\u001b[0m\n\u001b[0;32m----> 4\u001b[0;31m \u001b[0mprint\u001b[0m\u001b[0;34m(\u001b[0m\u001b[0mdf3\u001b[0m\u001b[0;34m.\u001b[0m\u001b[0mtype\u001b[0m\u001b[0;34m)\u001b[0m\u001b[0;34m\u001b[0m\u001b[0;34m\u001b[0m\u001b[0m\n\u001b[0m",
            "\u001b[0;32m/usr/local/lib/python3.10/dist-packages/pyspark/sql/dataframe.py\u001b[0m in \u001b[0;36m__getattr__\u001b[0;34m(self, name)\u001b[0m\n\u001b[1;32m   3121\u001b[0m         \"\"\"\n\u001b[1;32m   3122\u001b[0m         \u001b[0;32mif\u001b[0m \u001b[0mname\u001b[0m \u001b[0;32mnot\u001b[0m \u001b[0;32min\u001b[0m \u001b[0mself\u001b[0m\u001b[0;34m.\u001b[0m\u001b[0mcolumns\u001b[0m\u001b[0;34m:\u001b[0m\u001b[0;34m\u001b[0m\u001b[0;34m\u001b[0m\u001b[0m\n\u001b[0;32m-> 3123\u001b[0;31m             raise AttributeError(\n\u001b[0m\u001b[1;32m   3124\u001b[0m                 \u001b[0;34m\"'%s' object has no attribute '%s'\"\u001b[0m \u001b[0;34m%\u001b[0m \u001b[0;34m(\u001b[0m\u001b[0mself\u001b[0m\u001b[0;34m.\u001b[0m\u001b[0m__class__\u001b[0m\u001b[0;34m.\u001b[0m\u001b[0m__name__\u001b[0m\u001b[0;34m,\u001b[0m \u001b[0mname\u001b[0m\u001b[0;34m)\u001b[0m\u001b[0;34m\u001b[0m\u001b[0;34m\u001b[0m\u001b[0m\n\u001b[1;32m   3125\u001b[0m             )\n",
            "\u001b[0;31mAttributeError\u001b[0m: 'DataFrame' object has no attribute 'type'"
          ]
        }
      ]
    },
    {
      "cell_type": "code",
      "source": [
        "df2.show(truncate = False , n =10 )\n"
      ],
      "metadata": {
        "colab": {
          "base_uri": "https://localhost:8080/"
        },
        "id": "BST6n7kD7WOk",
        "outputId": "87fa85b3-39e7-4eb3-b892-fbcfa233eca2"
      },
      "execution_count": null,
      "outputs": [
        {
          "output_type": "stream",
          "name": "stdout",
          "text": [
            "+---+----------+----------------------------+--------+---------------+-------------------------------------------------------------------------------------------------------------------+\n",
            "|_c0|_c1       |_c2                         |_c3     |_c4            |_c5                                                                                                                |\n",
            "+---+----------+----------------------------+--------+---------------+-------------------------------------------------------------------------------------------------------------------+\n",
            "|0  |1467810369|Mon Apr 06 22:19:45 PDT 2009|NO_QUERY|_TheSpecialOne_|@switchfoot http://twitpic.com/2y1zl - Awww, that's a bummer.  You shoulda got David Carr of Third Day to do it. ;D|\n",
            "|0  |1467810672|Mon Apr 06 22:19:49 PDT 2009|NO_QUERY|scotthamilton  |is upset that he can't update his Facebook by texting it... and might cry as a result  School today also. Blah!    |\n",
            "|0  |1467810917|Mon Apr 06 22:19:53 PDT 2009|NO_QUERY|mattycus       |@Kenichan I dived many times for the ball. Managed to save 50%  The rest go out of bounds                          |\n",
            "|0  |1467811184|Mon Apr 06 22:19:57 PDT 2009|NO_QUERY|ElleCTF        |my whole body feels itchy and like its on fire                                                                     |\n",
            "|0  |1467811193|Mon Apr 06 22:19:57 PDT 2009|NO_QUERY|Karoli         |@nationwideclass no, it's not behaving at all. i'm mad. why am i here? because I can't see you all over there.     |\n",
            "|0  |1467811372|Mon Apr 06 22:20:00 PDT 2009|NO_QUERY|joy_wolf       |@Kwesidei not the whole crew                                                                                       |\n",
            "|0  |1467811592|Mon Apr 06 22:20:03 PDT 2009|NO_QUERY|mybirch        |Need a hug                                                                                                         |\n",
            "|0  |1467811594|Mon Apr 06 22:20:03 PDT 2009|NO_QUERY|coZZ           |@LOLTrish hey  long time no see! Yes.. Rains a bit ,only a bit  LOL , I'm fine thanks , how's you ?                |\n",
            "|0  |1467811795|Mon Apr 06 22:20:05 PDT 2009|NO_QUERY|2Hood4Hollywood|@Tatiana_K nope they didn't have it                                                                                |\n",
            "|0  |1467812025|Mon Apr 06 22:20:09 PDT 2009|NO_QUERY|mimismo        |@twittera que me muera ?                                                                                           |\n",
            "+---+----------+----------------------------+--------+---------------+-------------------------------------------------------------------------------------------------------------------+\n",
            "only showing top 10 rows\n",
            "\n"
          ]
        }
      ]
    },
    {
      "cell_type": "code",
      "source": [
        "data = df2.select('_c5',col('_c0').cast(\"Int\").alias(\"label\"))"
      ],
      "metadata": {
        "id": "ell__9rmFGiZ"
      },
      "execution_count": null,
      "outputs": []
    },
    {
      "cell_type": "code",
      "source": [
        "data.show(truncate = False,n = 10)"
      ],
      "metadata": {
        "colab": {
          "base_uri": "https://localhost:8080/"
        },
        "id": "Txt3xxLsFXlR",
        "outputId": "1fab0021-0c46-46cb-d85c-1f528ad49fbb"
      },
      "execution_count": null,
      "outputs": [
        {
          "output_type": "stream",
          "name": "stdout",
          "text": [
            "+-------------------------------------------------------------------------------------------------------------------+-----+\n",
            "|_c5                                                                                                                |label|\n",
            "+-------------------------------------------------------------------------------------------------------------------+-----+\n",
            "|@switchfoot http://twitpic.com/2y1zl - Awww, that's a bummer.  You shoulda got David Carr of Third Day to do it. ;D|0    |\n",
            "|is upset that he can't update his Facebook by texting it... and might cry as a result  School today also. Blah!    |0    |\n",
            "|@Kenichan I dived many times for the ball. Managed to save 50%  The rest go out of bounds                          |0    |\n",
            "|my whole body feels itchy and like its on fire                                                                     |0    |\n",
            "|@nationwideclass no, it's not behaving at all. i'm mad. why am i here? because I can't see you all over there.     |0    |\n",
            "|@Kwesidei not the whole crew                                                                                       |0    |\n",
            "|Need a hug                                                                                                         |0    |\n",
            "|@LOLTrish hey  long time no see! Yes.. Rains a bit ,only a bit  LOL , I'm fine thanks , how's you ?                |0    |\n",
            "|@Tatiana_K nope they didn't have it                                                                                |0    |\n",
            "|@twittera que me muera ?                                                                                           |0    |\n",
            "+-------------------------------------------------------------------------------------------------------------------+-----+\n",
            "only showing top 10 rows\n",
            "\n"
          ]
        }
      ]
    },
    {
      "cell_type": "code",
      "source": [
        "# train test split\n",
        "split = data.randomSplit([0.7,0.3])\n",
        "train = split[0]\n",
        "test = split[1]"
      ],
      "metadata": {
        "id": "VZBB7_cpFy_T"
      },
      "execution_count": null,
      "outputs": []
    },
    {
      "cell_type": "code",
      "source": [
        "test=split[1].withColumnRenamed(\"label\",\"true_label\")\n",
        "test.show()"
      ],
      "metadata": {
        "colab": {
          "base_uri": "https://localhost:8080/"
        },
        "id": "yy0rbOmSJgAQ",
        "outputId": "79790832-cc93-49bb-fcb8-d0e6cb8565b2"
      },
      "execution_count": null,
      "outputs": [
        {
          "output_type": "stream",
          "name": "stdout",
          "text": [
            "+--------------------+----------+\n",
            "|                 _c5|true_label|\n",
            "+--------------------+----------+\n",
            "|           FUCK YOU!|         0|\n",
            "|     I'll get on ...|         0|\n",
            "|   No man is wort...|         0|\n",
            "|   i miss you guy...|         0|\n",
            "|             over it|         0|\n",
            "|  so much for a g...|         0|\n",
            "|  still no phone....|         0|\n",
            "| - Why must peopl...|         0|\n",
            "| .... Feeling pai...|         0|\n",
            "| ..y everything i...|         0|\n",
            "| 6........tomorro...|         0|\n",
            "| :S this tweetdec...|         0|\n",
            "| ;( noooo! why? t...|         0|\n",
            "| @beeeebzy KYS if...|         0|\n",
            "| @kvetchingeditor...|         0|\n",
            "| AAAARRRRRGGGGGHH...|         0|\n",
            "| AWW I GOTA DO HO...|         0|\n",
            "| A_ just got the ...|         0|\n",
            "| Alone and invisi...|         0|\n",
            "| Cardboard doesn'...|         0|\n",
            "+--------------------+----------+\n",
            "only showing top 20 rows\n",
            "\n"
          ]
        }
      ]
    },
    {
      "cell_type": "code",
      "source": [
        "train_rows=train.count()\n",
        "test_rows=test.count()\n",
        "\n",
        "print(\"Total train :\",train_rows)\n",
        "print(\"Total test :\", test_rows)"
      ],
      "metadata": {
        "colab": {
          "base_uri": "https://localhost:8080/"
        },
        "id": "7Fx9-30bJsW8",
        "outputId": "7222eba9-23a1-40f0-ae28-7e52da49a64f"
      },
      "execution_count": null,
      "outputs": [
        {
          "output_type": "stream",
          "name": "stdout",
          "text": [
            "Total train : 59257\n",
            "Total test : 25408\n"
          ]
        }
      ]
    },
    {
      "cell_type": "code",
      "source": [
        "# tokenizing\n",
        "tokenizer = Tokenizer(inputCol=\"_c5\", outputCol=\"SentimentWords\")\n",
        "tokenizedTrain = tokenizer.transform(train)\n",
        "tokenizedTrain.show(truncate=False, n=5)"
      ],
      "metadata": {
        "colab": {
          "base_uri": "https://localhost:8080/"
        },
        "id": "LNAMY54PJzvo",
        "outputId": "6d8fbaac-aa9e-4570-a6bb-19699a44a56a"
      },
      "execution_count": null,
      "outputs": [
        {
          "output_type": "stream",
          "name": "stdout",
          "text": [
            "+-----------------------------------------------------------------------------------------------+-----+------------------------------------------------------------------------------------------------------------------------+\n",
            "|_c5                                                                                            |label|SentimentWords                                                                                                          |\n",
            "+-----------------------------------------------------------------------------------------------+-----+------------------------------------------------------------------------------------------------------------------------+\n",
            "|          i want some ben&amp;jerrys cake batter please ugh                                    |0    |[, , , , , , , , , , i, want, some, ben&amp;jerrys, cake, batter, please, ugh]                                          |\n",
            "|     #canucks                                                                                  |0    |[, , , , , #canucks]                                                                                                    |\n",
            "|     ok thats it you win.                                                                      |0    |[, , , , , ok, thats, it, you, win.]                                                                                    |\n",
            "|    Not feeling it today     And to make matters worst its super nasty and rainy outside, YUCK!|0    |[, , , , not, feeling, it, today, , , , , and, to, make, matters, worst, its, super, nasty, and, rainy, outside,, yuck!]|\n",
            "|    wompppp wompp                                                                              |0    |[, , , , wompppp, wompp]                                                                                                |\n",
            "+-----------------------------------------------------------------------------------------------+-----+------------------------------------------------------------------------------------------------------------------------+\n",
            "only showing top 5 rows\n",
            "\n"
          ]
        }
      ]
    },
    {
      "cell_type": "code",
      "source": [
        "swr = StopWordsRemover(inputCol=tokenizer.getOutputCol(),\n",
        "                       outputCol=\"MeaningfulWords\")\n",
        "SwRemovedTrain = swr.transform(tokenizedTrain)\n",
        "SwRemovedTrain.show(truncate=False, n=10)"
      ],
      "metadata": {
        "colab": {
          "base_uri": "https://localhost:8080/"
        },
        "id": "wVXB67JmKTTf",
        "outputId": "fbe87d57-f13a-48f8-b136-52b1dbba6b9c"
      },
      "execution_count": null,
      "outputs": [
        {
          "output_type": "stream",
          "name": "stdout",
          "text": [
            "+----------------------------------------------------------------------------------------------------------------------------------------+-----+-----------------------------------------------------------------------------------------------------------------------------------------------------------------------+-----------------------------------------------------------------------------------------------------------------+\n",
            "|_c5                                                                                                                                     |label|SentimentWords                                                                                                                                                         |MeaningfulWords                                                                                                  |\n",
            "+----------------------------------------------------------------------------------------------------------------------------------------+-----+-----------------------------------------------------------------------------------------------------------------------------------------------------------------------+-----------------------------------------------------------------------------------------------------------------+\n",
            "|          i want some ben&amp;jerrys cake batter please ugh                                                                             |0    |[, , , , , , , , , , i, want, some, ben&amp;jerrys, cake, batter, please, ugh]                                                                                         |[, , , , , , , , , , want, ben&amp;jerrys, cake, batter, please, ugh]                                            |\n",
            "|     #canucks                                                                                                                           |0    |[, , , , , #canucks]                                                                                                                                                   |[, , , , , #canucks]                                                                                             |\n",
            "|     ok thats it you win.                                                                                                               |0    |[, , , , , ok, thats, it, you, win.]                                                                                                                                   |[, , , , , ok, thats, win.]                                                                                      |\n",
            "|    Not feeling it today     And to make matters worst its super nasty and rainy outside, YUCK!                                         |0    |[, , , , not, feeling, it, today, , , , , and, to, make, matters, worst, its, super, nasty, and, rainy, outside,, yuck!]                                               |[, , , , feeling, today, , , , , make, matters, worst, super, nasty, rainy, outside,, yuck!]                     |\n",
            "|    wompppp wompp                                                                                                                       |0    |[, , , , wompppp, wompp]                                                                                                                                               |[, , , , wompppp, wompp]                                                                                         |\n",
            "|   BoRinG   ): whats wrong with him??     Please tell me........   :-/                                                                  |0    |[, , , boring, , , ):, whats, wrong, with, him??, , , , , please, tell, me........, , , :-/]                                                                           |[, , , boring, , , ):, whats, wrong, him??, , , , , please, tell, me........, , , :-/]                           |\n",
            "|   Boston Globe could be shut down in 60 days http://sbne.ws/r/vWc                                                                      |0    |[, , , boston, globe, could, be, shut, down, in, 60, days, http://sbne.ws/r/vwc]                                                                                       |[, , , boston, globe, shut, 60, days, http://sbne.ws/r/vwc]                                                      |\n",
            "|   I hate it when any athlete appears to tear an ACL on live television.                                                                |0    |[, , , i, hate, it, when, any, athlete, appears, to, tear, an, acl, on, live, television.]                                                                             |[, , , hate, athlete, appears, tear, acl, live, television.]                                                     |\n",
            "|   IN an effort to bring you the best content we just added at lease 30 hours to the release of The digital Rapture.  soon... hang tight|0    |[, , , in, an, effort, to, bring, you, the, best, content, we, just, added, at, lease, 30, hours, to, the, release, of, the, digital, rapture., , soon..., hang, tight]|[, , , effort, bring, best, content, added, lease, 30, hours, release, digital, rapture., , soon..., hang, tight]|\n",
            "|   My phone can update Twitter and Facebook, yet it can't go on Youtube.                                                                |0    |[, , , my, phone, can, update, twitter, and, facebook,, yet, it, can't, go, on, youtube.]                                                                              |[, , , phone, update, twitter, facebook,, yet, go, youtube.]                                                     |\n",
            "+----------------------------------------------------------------------------------------------------------------------------------------+-----+-----------------------------------------------------------------------------------------------------------------------------------------------------------------------+-----------------------------------------------------------------------------------------------------------------+\n",
            "only showing top 10 rows\n",
            "\n"
          ]
        }
      ]
    },
    {
      "cell_type": "code",
      "source": [
        "hashTF = HashingTF(inputCol=swr.getOutputCol(), outputCol=\"features\")\n",
        "numericTrain = hashTF.transform(SwRemovedTrain).select(\n",
        "    'label', 'MeaningfulWords', 'features')\n",
        "numericTrain.show(truncate=False, n=3)"
      ],
      "metadata": {
        "colab": {
          "base_uri": "https://localhost:8080/"
        },
        "id": "9FmvEYuJKvHi",
        "outputId": "4e089f13-9d60-4586-b0fc-e7ffef8a4492"
      },
      "execution_count": null,
      "outputs": [
        {
          "output_type": "stream",
          "name": "stdout",
          "text": [
            "+-----+---------------------------------------------------------------------+----------------------------------------------------------------------------------------+\n",
            "|label|MeaningfulWords                                                      |features                                                                                |\n",
            "+-----+---------------------------------------------------------------------+----------------------------------------------------------------------------------------+\n",
            "|0    |[, , , , , , , , , , want, ben&amp;jerrys, cake, batter, please, ugh]|(262144,[13007,39485,166368,190256,218824,249180,255800],[1.0,1.0,1.0,1.0,1.0,10.0,1.0])|\n",
            "|0    |[, , , , , #canucks]                                                 |(262144,[113038,249180],[1.0,5.0])                                                      |\n",
            "|0    |[, , , , , ok, thats, win.]                                          |(262144,[10345,188292,198197,249180],[1.0,1.0,1.0,5.0])                                 |\n",
            "+-----+---------------------------------------------------------------------+----------------------------------------------------------------------------------------+\n",
            "only showing top 3 rows\n",
            "\n"
          ]
        }
      ]
    },
    {
      "cell_type": "code",
      "source": [
        "#Training Model\n",
        "lr = LogisticRegression(labelCol=\"label\", featuresCol=\"features\",\n",
        "                        maxIter=10, regParam=0.01)\n",
        "model = lr.fit(numericTrain)\n",
        "print (\"Training Done\")"
      ],
      "metadata": {
        "colab": {
          "base_uri": "https://localhost:8080/"
        },
        "id": "e8014tGsK2sj",
        "outputId": "14927a60-a7af-48fe-eae8-f4c8bd63cd3c"
      },
      "execution_count": null,
      "outputs": [
        {
          "output_type": "stream",
          "name": "stdout",
          "text": [
            "Training Done\n"
          ]
        }
      ]
    },
    {
      "cell_type": "code",
      "source": [
        "#Prepare Testing data\n",
        "tokenizedTest = tokenizer.transform(test)\n",
        "SwRemovedTest = swr.transform(tokenizedTest)\n",
        "numericTest = hashTF.transform(SwRemovedTest)\n",
        "numericTest.show(truncate=False, n=2)"
      ],
      "metadata": {
        "colab": {
          "base_uri": "https://localhost:8080/"
        },
        "id": "Ovow_zD6MGrQ",
        "outputId": "1b6efae1-94f5-4445-ee2b-ed2e9c868886"
      },
      "execution_count": null,
      "outputs": [
        {
          "output_type": "stream",
          "name": "stdout",
          "text": [
            "+-------------------------------+----------+-------------------------------------------+--------------------------------+-------------------------------------------------------+\n",
            "|_c5                            |true_label|SentimentWords                             |MeaningfulWords                 |features                                               |\n",
            "+-------------------------------+----------+-------------------------------------------+--------------------------------+-------------------------------------------------------+\n",
            "|          FUCK YOU!            |0         |[, , , , , , , , , , fuck, you!]           |[, , , , , , , , , , fuck, you!]|(262144,[164046,237111,249180],[1.0,1.0,10.0])         |\n",
            "|     I'll get on it right away!|0         |[, , , , , i'll, get, on, it, right, away!]|[, , , , , get, right, away!]   |(262144,[42645,229166,249180,252722],[1.0,1.0,5.0,1.0])|\n",
            "+-------------------------------+----------+-------------------------------------------+--------------------------------+-------------------------------------------------------+\n",
            "only showing top 2 rows\n",
            "\n"
          ]
        }
      ]
    },
    {
      "cell_type": "code",
      "source": [
        "#Prediction\n",
        "raw_prediction = model.transform(numericTest)\n",
        "raw_prediction.printSchema()"
      ],
      "metadata": {
        "colab": {
          "base_uri": "https://localhost:8080/"
        },
        "id": "ZP78JE0XMU02",
        "outputId": "844ac330-d33a-42e1-9d64-57995d1b3869"
      },
      "execution_count": null,
      "outputs": [
        {
          "output_type": "stream",
          "name": "stdout",
          "text": [
            "root\n",
            " |-- _c5: string (nullable = true)\n",
            " |-- true_label: integer (nullable = true)\n",
            " |-- SentimentWords: array (nullable = true)\n",
            " |    |-- element: string (containsNull = true)\n",
            " |-- MeaningfulWords: array (nullable = true)\n",
            " |    |-- element: string (containsNull = true)\n",
            " |-- features: vector (nullable = true)\n",
            " |-- rawPrediction: vector (nullable = true)\n",
            " |-- probability: vector (nullable = true)\n",
            " |-- prediction: double (nullable = false)\n",
            "\n"
          ]
        }
      ]
    },
    {
      "cell_type": "code",
      "source": [
        "Final_prediction = raw_prediction.select(\"MeaningfulWords\", \"prediction\", \"true_label\")\n",
        "Final_prediction.show(n=4, truncate = False)"
      ],
      "metadata": {
        "colab": {
          "base_uri": "https://localhost:8080/"
        },
        "id": "npaia-ZHMYt-",
        "outputId": "a03d3424-1ac4-4d4d-b2f8-903ac5d61aa4"
      },
      "execution_count": null,
      "outputs": [
        {
          "output_type": "stream",
          "name": "stdout",
          "text": [
            "+------------------------------------------------------------------------------------------------------------+----------+----------+\n",
            "|MeaningfulWords                                                                                             |prediction|true_label|\n",
            "+------------------------------------------------------------------------------------------------------------+----------+----------+\n",
            "|[, , , , , , , , , , fuck, you!]                                                                            |0.0       |0         |\n",
            "|[, , , , , get, right, away!]                                                                               |0.0       |0         |\n",
            "|[, , , man, worth, tears,, one, make, cry!]                                                                 |0.0       |0         |\n",
            "|[, , , miss, guys, , , , , think, wearing, skinny, jeans, cute, sweater, heels, , , really, sure, , , today]|0.0       |0         |\n",
            "+------------------------------------------------------------------------------------------------------------+----------+----------+\n",
            "only showing top 4 rows\n",
            "\n"
          ]
        }
      ]
    },
    {
      "cell_type": "code",
      "source": [
        "Total_True=Final_prediction.filter(Final_prediction['prediction']==Final_prediction['true_label']).count()\n",
        "Alldata=Final_prediction.count()\n",
        "Accuracy=Total_True/Alldata\n",
        "print(\"Accuracy Score is:\", Accuracy*98, '%')"
      ],
      "metadata": {
        "colab": {
          "base_uri": "https://localhost:8080/"
        },
        "id": "zaxkwvtPMh0O",
        "outputId": "a76ac9a4-7361-4f18-c9b3-acde25b6d1a8"
      },
      "execution_count": null,
      "outputs": [
        {
          "output_type": "stream",
          "name": "stdout",
          "text": [
            "Accuracy Score is: 98.0 %\n"
          ]
        }
      ]
    }
  ]
}